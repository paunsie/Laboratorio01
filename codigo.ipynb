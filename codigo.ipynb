{
  "nbformat": 4,
  "nbformat_minor": 0,
  "metadata": {
    "colab": {
      "provenance": [],
      "authorship_tag": "ABX9TyNNm9rJkrNYL/jDLR7Heud8",
      "include_colab_link": true
    },
    "kernelspec": {
      "name": "python3",
      "display_name": "Python 3"
    },
    "language_info": {
      "name": "python"
    }
  },
  "cells": [
    
    {
      "cell_type": "code",
      "execution_count": null,
      "metadata": {
        "id": "nLqTF5wIPnAl"
      },
      "outputs": [],
      "source": [
        "print(\"hola\")",
        "\n",
        "print(\"cambio hecho por Paula Sierra")"
      ]
    }
  ]
}
