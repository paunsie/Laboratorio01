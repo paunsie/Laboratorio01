{
  "nbformat": 4,
  "nbformat_minor": 0,
  "metadata": {
    "colab": {
      "provenance": [],
      "authorship_tag": "ABX9TyPUJcGlu3Q0OXMrYgwxxqHB"
    },
    "kernelspec": {
      "name": "python3",
      "display_name": "Python 3"
    },
    "language_info": {
      "name": "python"
    }
  },
  "cells": [
    {
      "cell_type": "code",
      "execution_count": null,
      "metadata": {
        "id": "nLqTF5wIPnAl"
      },
      "outputs": [],
      "source": [
        "print(\"hola\")\n",
        "\n",
        "print(\"cambio castellanos\")"
      ]
    }
  ]
}